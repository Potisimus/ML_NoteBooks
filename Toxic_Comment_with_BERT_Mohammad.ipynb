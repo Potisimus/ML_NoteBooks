{
  "nbformat": 4,
  "nbformat_minor": 0,
  "metadata": {
    "colab": {
      "name": "Toxic_Comment_with_BERT_Mohammad.ipynb",
      "provenance": [],
      "collapsed_sections": [],
      "mount_file_id": "1fz0KG3UiFzeP61_1MrF2S2_VkGRTdqtX",
      "authorship_tag": "ABX9TyPDKhutBks0s6ylizJp7zuk",
      "include_colab_link": true
    },
    "kernelspec": {
      "display_name": "Python 3",
      "name": "python3"
    },
    "accelerator": "GPU"
  },
  "cells": [
    {
      "cell_type": "markdown",
      "metadata": {
        "id": "view-in-github",
        "colab_type": "text"
      },
      "source": [
        "<a href=\"https://colab.research.google.com/github/Potisimus/ML_NoteBooks/blob/master/Toxic_Comment_with_BERT_Mohammad.ipynb\" target=\"_parent\"><img src=\"https://colab.research.google.com/assets/colab-badge.svg\" alt=\"Open In Colab\"/></a>"
      ]
    },
    {
      "cell_type": "code",
      "metadata": {
        "colab": {
          "base_uri": "https://localhost:8080/"
        },
        "id": "TPrF_EOoqSaa",
        "outputId": "a300f2c7-f1dc-4378-d429-b0a183ad10c9"
      },
      "source": [
        "!pip install transformers"
      ],
      "execution_count": null,
      "outputs": [
        {
          "output_type": "stream",
          "text": [
            "Requirement already satisfied: transformers in /usr/local/lib/python3.6/dist-packages (4.2.2)\n",
            "Requirement already satisfied: sacremoses in /usr/local/lib/python3.6/dist-packages (from transformers) (0.0.43)\n",
            "Requirement already satisfied: filelock in /usr/local/lib/python3.6/dist-packages (from transformers) (3.0.12)\n",
            "Requirement already satisfied: tokenizers==0.9.4 in /usr/local/lib/python3.6/dist-packages (from transformers) (0.9.4)\n",
            "Requirement already satisfied: tqdm>=4.27 in /usr/local/lib/python3.6/dist-packages (from transformers) (4.41.1)\n",
            "Requirement already satisfied: regex!=2019.12.17 in /usr/local/lib/python3.6/dist-packages (from transformers) (2019.12.20)\n",
            "Requirement already satisfied: importlib-metadata; python_version < \"3.8\" in /usr/local/lib/python3.6/dist-packages (from transformers) (3.4.0)\n",
            "Requirement already satisfied: packaging in /usr/local/lib/python3.6/dist-packages (from transformers) (20.9)\n",
            "Requirement already satisfied: dataclasses; python_version < \"3.7\" in /usr/local/lib/python3.6/dist-packages (from transformers) (0.8)\n",
            "Requirement already satisfied: numpy in /usr/local/lib/python3.6/dist-packages (from transformers) (1.19.5)\n",
            "Requirement already satisfied: requests in /usr/local/lib/python3.6/dist-packages (from transformers) (2.23.0)\n",
            "Requirement already satisfied: joblib in /usr/local/lib/python3.6/dist-packages (from sacremoses->transformers) (1.0.0)\n",
            "Requirement already satisfied: click in /usr/local/lib/python3.6/dist-packages (from sacremoses->transformers) (7.1.2)\n",
            "Requirement already satisfied: six in /usr/local/lib/python3.6/dist-packages (from sacremoses->transformers) (1.15.0)\n",
            "Requirement already satisfied: typing-extensions>=3.6.4; python_version < \"3.8\" in /usr/local/lib/python3.6/dist-packages (from importlib-metadata; python_version < \"3.8\"->transformers) (3.7.4.3)\n",
            "Requirement already satisfied: zipp>=0.5 in /usr/local/lib/python3.6/dist-packages (from importlib-metadata; python_version < \"3.8\"->transformers) (3.4.0)\n",
            "Requirement already satisfied: pyparsing>=2.0.2 in /usr/local/lib/python3.6/dist-packages (from packaging->transformers) (2.4.7)\n",
            "Requirement already satisfied: certifi>=2017.4.17 in /usr/local/lib/python3.6/dist-packages (from requests->transformers) (2020.12.5)\n",
            "Requirement already satisfied: chardet<4,>=3.0.2 in /usr/local/lib/python3.6/dist-packages (from requests->transformers) (3.0.4)\n",
            "Requirement already satisfied: idna<3,>=2.5 in /usr/local/lib/python3.6/dist-packages (from requests->transformers) (2.10)\n",
            "Requirement already satisfied: urllib3!=1.25.0,!=1.25.1,<1.26,>=1.21.1 in /usr/local/lib/python3.6/dist-packages (from requests->transformers) (1.24.3)\n"
          ],
          "name": "stdout"
        }
      ]
    },
    {
      "cell_type": "code",
      "metadata": {
        "id": "lW9tcc9cqgmJ"
      },
      "source": [
        "# Load Data\r\n",
        "import pandas as pd\r\n",
        "train = pd.read_csv(\"/content/drive/MyDrive/Kaggle/jigsaw-toxic-comment-classification-challenge/train.csv/train.csv\")"
      ],
      "execution_count": null,
      "outputs": []
    },
    {
      "cell_type": "code",
      "metadata": {
        "colab": {
          "base_uri": "https://localhost:8080/",
          "height": 197
        },
        "id": "f-2VJM2LtrSN",
        "outputId": "1c79e951-532d-4ff7-d45a-eb9138ac7fce"
      },
      "source": [
        "train.head()"
      ],
      "execution_count": null,
      "outputs": [
        {
          "output_type": "execute_result",
          "data": {
            "text/html": [
              "<div>\n",
              "<style scoped>\n",
              "    .dataframe tbody tr th:only-of-type {\n",
              "        vertical-align: middle;\n",
              "    }\n",
              "\n",
              "    .dataframe tbody tr th {\n",
              "        vertical-align: top;\n",
              "    }\n",
              "\n",
              "    .dataframe thead th {\n",
              "        text-align: right;\n",
              "    }\n",
              "</style>\n",
              "<table border=\"1\" class=\"dataframe\">\n",
              "  <thead>\n",
              "    <tr style=\"text-align: right;\">\n",
              "      <th></th>\n",
              "      <th>id</th>\n",
              "      <th>comment_text</th>\n",
              "      <th>toxic</th>\n",
              "      <th>severe_toxic</th>\n",
              "      <th>obscene</th>\n",
              "      <th>threat</th>\n",
              "      <th>insult</th>\n",
              "      <th>identity_hate</th>\n",
              "    </tr>\n",
              "  </thead>\n",
              "  <tbody>\n",
              "    <tr>\n",
              "      <th>0</th>\n",
              "      <td>0000997932d777bf</td>\n",
              "      <td>Explanation\\nWhy the edits made under my usern...</td>\n",
              "      <td>0</td>\n",
              "      <td>0</td>\n",
              "      <td>0</td>\n",
              "      <td>0</td>\n",
              "      <td>0</td>\n",
              "      <td>0</td>\n",
              "    </tr>\n",
              "    <tr>\n",
              "      <th>1</th>\n",
              "      <td>000103f0d9cfb60f</td>\n",
              "      <td>D'aww! He matches this background colour I'm s...</td>\n",
              "      <td>0</td>\n",
              "      <td>0</td>\n",
              "      <td>0</td>\n",
              "      <td>0</td>\n",
              "      <td>0</td>\n",
              "      <td>0</td>\n",
              "    </tr>\n",
              "    <tr>\n",
              "      <th>2</th>\n",
              "      <td>000113f07ec002fd</td>\n",
              "      <td>Hey man, I'm really not trying to edit war. It...</td>\n",
              "      <td>0</td>\n",
              "      <td>0</td>\n",
              "      <td>0</td>\n",
              "      <td>0</td>\n",
              "      <td>0</td>\n",
              "      <td>0</td>\n",
              "    </tr>\n",
              "    <tr>\n",
              "      <th>3</th>\n",
              "      <td>0001b41b1c6bb37e</td>\n",
              "      <td>\"\\nMore\\nI can't make any real suggestions on ...</td>\n",
              "      <td>0</td>\n",
              "      <td>0</td>\n",
              "      <td>0</td>\n",
              "      <td>0</td>\n",
              "      <td>0</td>\n",
              "      <td>0</td>\n",
              "    </tr>\n",
              "    <tr>\n",
              "      <th>4</th>\n",
              "      <td>0001d958c54c6e35</td>\n",
              "      <td>You, sir, are my hero. Any chance you remember...</td>\n",
              "      <td>0</td>\n",
              "      <td>0</td>\n",
              "      <td>0</td>\n",
              "      <td>0</td>\n",
              "      <td>0</td>\n",
              "      <td>0</td>\n",
              "    </tr>\n",
              "  </tbody>\n",
              "</table>\n",
              "</div>"
            ],
            "text/plain": [
              "                 id  ... identity_hate\n",
              "0  0000997932d777bf  ...             0\n",
              "1  000103f0d9cfb60f  ...             0\n",
              "2  000113f07ec002fd  ...             0\n",
              "3  0001b41b1c6bb37e  ...             0\n",
              "4  0001d958c54c6e35  ...             0\n",
              "\n",
              "[5 rows x 8 columns]"
            ]
          },
          "metadata": {
            "tags": []
          },
          "execution_count": 33
        }
      ]
    },
    {
      "cell_type": "code",
      "metadata": {
        "colab": {
          "base_uri": "https://localhost:8080/"
        },
        "id": "2FGjZLQItsrT",
        "outputId": "c925319c-492e-44c6-8c55-6743530e3ebc"
      },
      "source": [
        "# Length of Data\r\n",
        "print('There are {:,} training examples.'.format(len(train)))"
      ],
      "execution_count": null,
      "outputs": [
        {
          "output_type": "stream",
          "text": [
            "There are 159,571 training examples.\n"
          ],
          "name": "stdout"
        }
      ]
    },
    {
      "cell_type": "code",
      "metadata": {
        "colab": {
          "base_uri": "https://localhost:8080/"
        },
        "id": "n8AISAIPtxp7",
        "outputId": "52d099ec-9c26-4d56-b090-7ca50a69cadb"
      },
      "source": [
        "# Display some of the comments labeled as containing an attack\r\n",
        "import textwrap\r\n",
        "import random\r\n",
        "\r\n",
        "# Wrap text to 80 characters.\r\n",
        "wrapper = textwrap.TextWrapper(width=80) \r\n",
        "\r\n",
        "# Filter to just the \"insult\" comments.\r\n",
        "insults = train.loc[train.insult == 1]['comment_text']\r\n",
        "comments = train.loc[train.insult == 1]['comment_text']\r\n",
        "\r\n",
        "# Randomly choose some examples.\r\n",
        "for i in range(5):\r\n",
        "    j = random.choice(insults.index)\r\n",
        "    \r\n",
        "    print('')\r\n",
        "    print(wrapper.fill(insults[j]))\r\n",
        "    print('')\r\n"
      ],
      "execution_count": null,
      "outputs": [
        {
          "output_type": "stream",
          "text": [
            "\n",
            "Screw you! A devout Leftist deleted my fact based contribution and you defend\n",
            "hym/hyr/shyt? We're on to, we have been since the beginning, we have finally\n",
            "decided to fight back. Soon OUR voices will be heard and your kind will rue the\n",
            "day you screwed with us and our nation.    Bold text\n",
            "\n",
            "\n",
            "Yamla_likes_to_fuck_babies_up_the_ass_wwwwwwwwwwwwwwwwwwwwwwwwwwwwwwwwwwwwwwwwww\n",
            "wwwwwwwwwwwwwwwwwwwwwwwwwwwwwwwwwwwwwwwwwwwwwwwwwwwwwwwwwwwwwwwwwwwwwwwwwwwwwwww\n",
            "wwwwwwwwww   Willy on Wheels is the ultimate vandal. JLaTondre should fuck off\n",
            "wikipedia and get raped in the eye!\n",
            "\n",
            "\n",
            "You Are a fuck head I'm not a vandal so suck cock ass master.  We'll talk after\n",
            "your done with your Mom.\n",
            "\n",
            "\n",
            "hey bitch im trying to edit this page and u deleted it. u son of a bitch better\n",
            "put it back or im going to find u and kick your FAT ASS!\n",
            "\n",
            "\n",
            "Hey Rancie you Prick, go suck a great big uncircumcized one!    - Tony\n",
            "Greenstein\n",
            "\n"
          ],
          "name": "stdout"
        }
      ]
    },
    {
      "cell_type": "code",
      "metadata": {
        "id": "s_QC27-puK2p"
      },
      "source": [
        "# Class Distribution\r\n",
        "\r\n",
        "# These are the six possible labels.\r\n",
        "label_cols = ['toxic', 'severe_toxic', 'obscene', 'threat', 'insult', 'identity_hate']\r\n",
        "\r\n",
        "# Select just the labels (not the text), and for every row, check whether any\r\n",
        "# of the labels are \"1\".\r\n",
        "has_labels = train[label_cols].any(axis=1)\r\n",
        "\r\n",
        "# Add a new column indicating which samples have no toxic labels.\r\n",
        "train['none'] = 1 - has_labels\r\n",
        "\r\n",
        "# Add the 'none' column to our list of label names.\r\n",
        "label_cols.append('none')"
      ],
      "execution_count": null,
      "outputs": []
    },
    {
      "cell_type": "code",
      "metadata": {
        "colab": {
          "base_uri": "https://localhost:8080/"
        },
        "id": "8LE4GsNeumuR",
        "outputId": "e6c24043-3bd6-4814-d120-348e31ca806d"
      },
      "source": [
        "# Tally up each label separately.\r\n",
        "label_counts = train[label_cols].sum(axis=0)\r\n",
        "\r\n",
        "print(label_counts)"
      ],
      "execution_count": null,
      "outputs": [
        {
          "output_type": "stream",
          "text": [
            "toxic             15294\n",
            "severe_toxic       1595\n",
            "obscene            8449\n",
            "threat              478\n",
            "insult             7877\n",
            "identity_hate      1405\n",
            "none             143346\n",
            "dtype: int64\n"
          ],
          "name": "stdout"
        }
      ]
    },
    {
      "cell_type": "code",
      "metadata": {
        "colab": {
          "base_uri": "https://localhost:8080/"
        },
        "id": "UTmn5ahXuwnB",
        "outputId": "d82242df-c584-4670-969f-02cfea70ddb1"
      },
      "source": [
        "# What % are toxic?\r\n",
        "print('{:.1%} of the comments are safe.'.format(label_counts['none'] / len(train)))"
      ],
      "execution_count": null,
      "outputs": [
        {
          "output_type": "stream",
          "text": [
            "89.8% of the comments are safe.\n"
          ],
          "name": "stdout"
        }
      ]
    },
    {
      "cell_type": "code",
      "metadata": {
        "colab": {
          "base_uri": "https://localhost:8080/",
          "height": 390
        },
        "id": "jR5i6c1LvWwh",
        "outputId": "18b6fef6-86b7-45f8-ace9-427c4b21b729"
      },
      "source": [
        "# Samples in each category\r\n",
        "import matplotlib.pyplot as plt\r\n",
        "import seaborn as sns\r\n",
        "import numpy as np\r\n",
        "\r\n",
        "sns.set(style='darkgrid')\r\n",
        "\r\n",
        "# Increase the plot size and font size.\r\n",
        "sns.set(font_scale=1.5)\r\n",
        "plt.rcParams[\"figure.figsize\"] = (10,5)\r\n",
        "\r\n",
        "# Plot the number of tokens of each length.\r\n",
        "sns.barplot(x=label_cols, y=label_counts)\r\n",
        "plt.title('Class Distribution')\r\n",
        "plt.xlabel('Category')\r\n",
        "plt.ylabel('# of Training Samples')\r\n"
      ],
      "execution_count": null,
      "outputs": [
        {
          "output_type": "execute_result",
          "data": {
            "text/plain": [
              "Text(0, 0.5, '# of Training Samples')"
            ]
          },
          "metadata": {
            "tags": []
          },
          "execution_count": 39
        },
        {
          "output_type": "display_data",
          "data": {
            "image/png": "[encoded data removed]",
            "text/plain": [
              "<Figure size 720x360 with 1 Axes>"
            ]
          },
          "metadata": {
            "tags": []
          }
        }
      ]
    },
    {
      "cell_type": "code",
      "metadata": {
        "colab": {
          "base_uri": "https://localhost:8080/",
          "height": 647
        },
        "id": "kf0UR4zB9pos",
        "outputId": "feb7c54a-5c75-4418-e79e-51f36d964091"
      },
      "source": [
        "train.head(20)"
      ],
      "execution_count": null,
      "outputs": [
        {
          "output_type": "execute_result",
          "data": {
            "text/html": [
              "<div>\n",
              "<style scoped>\n",
              "    .dataframe tbody tr th:only-of-type {\n",
              "        vertical-align: middle;\n",
              "    }\n",
              "\n",
              "    .dataframe tbody tr th {\n",
              "        vertical-align: top;\n",
              "    }\n",
              "\n",
              "    .dataframe thead th {\n",
              "        text-align: right;\n",
              "    }\n",
              "</style>\n",
              "<table border=\"1\" class=\"dataframe\">\n",
              "  <thead>\n",
              "    <tr style=\"text-align: right;\">\n",
              "      <th></th>\n",
              "      <th>id</th>\n",
              "      <th>comment_text</th>\n",
              "      <th>toxic</th>\n",
              "      <th>severe_toxic</th>\n",
              "      <th>obscene</th>\n",
              "      <th>threat</th>\n",
              "      <th>insult</th>\n",
              "      <th>identity_hate</th>\n",
              "      <th>none</th>\n",
              "    </tr>\n",
              "  </thead>\n",
              "  <tbody>\n",
              "    <tr>\n",
              "      <th>0</th>\n",
              "      <td>0000997932d777bf</td>\n",
              "      <td>Explanation\\nWhy the edits made under my usern...</td>\n",
              "      <td>0</td>\n",
              "      <td>0</td>\n",
              "      <td>0</td>\n",
              "      <td>0</td>\n",
              "      <td>0</td>\n",
              "      <td>0</td>\n",
              "      <td>1</td>\n",
              "    </tr>\n",
              "    <tr>\n",
              "      <th>1</th>\n",
              "      <td>000103f0d9cfb60f</td>\n",
              "      <td>D'aww! He matches this background colour I'm s...</td>\n",
              "      <td>0</td>\n",
              "      <td>0</td>\n",
              "      <td>0</td>\n",
              "      <td>0</td>\n",
              "      <td>0</td>\n",
              "      <td>0</td>\n",
              "      <td>1</td>\n",
              "    </tr>\n",
              "    <tr>\n",
              "      <th>2</th>\n",
              "      <td>000113f07ec002fd</td>\n",
              "      <td>Hey man, I'm really not trying to edit war. It...</td>\n",
              "      <td>0</td>\n",
              "      <td>0</td>\n",
              "      <td>0</td>\n",
              "      <td>0</td>\n",
              "      <td>0</td>\n",
              "      <td>0</td>\n",
              "      <td>1</td>\n",
              "    </tr>\n",
              "    <tr>\n",
              "      <th>3</th>\n",
              "      <td>0001b41b1c6bb37e</td>\n",
              "      <td>\"\\nMore\\nI can't make any real suggestions on ...</td>\n",
              "      <td>0</td>\n",
              "      <td>0</td>\n",
              "      <td>0</td>\n",
              "      <td>0</td>\n",
              "      <td>0</td>\n",
              "      <td>0</td>\n",
              "      <td>1</td>\n",
              "    </tr>\n",
              "    <tr>\n",
              "      <th>4</th>\n",
              "      <td>0001d958c54c6e35</td>\n",
              "      <td>You, sir, are my hero. Any chance you remember...</td>\n",
              "      <td>0</td>\n",
              "      <td>0</td>\n",
              "      <td>0</td>\n",
              "      <td>0</td>\n",
              "      <td>0</td>\n",
              "      <td>0</td>\n",
              "      <td>1</td>\n",
              "    </tr>\n",
              "    <tr>\n",
              "      <th>5</th>\n",
              "      <td>00025465d4725e87</td>\n",
              "      <td>\"\\n\\nCongratulations from me as well, use the ...</td>\n",
              "      <td>0</td>\n",
              "      <td>0</td>\n",
              "      <td>0</td>\n",
              "      <td>0</td>\n",
              "      <td>0</td>\n",
              "      <td>0</td>\n",
              "      <td>1</td>\n",
              "    </tr>\n",
              "    <tr>\n",
              "      <th>6</th>\n",
              "      <td>0002bcb3da6cb337</td>\n",
              "      <td>COCKSUCKER BEFORE YOU PISS AROUND ON MY WORK</td>\n",
              "      <td>1</td>\n",
              "      <td>1</td>\n",
              "      <td>1</td>\n",
              "      <td>0</td>\n",
              "      <td>1</td>\n",
              "      <td>0</td>\n",
              "      <td>0</td>\n",
              "    </tr>\n",
              "    <tr>\n",
              "      <th>7</th>\n",
              "      <td>00031b1e95af7921</td>\n",
              "      <td>Your vandalism to the Matt Shirvington article...</td>\n",
              "      <td>0</td>\n",
              "      <td>0</td>\n",
              "      <td>0</td>\n",
              "      <td>0</td>\n",
              "      <td>0</td>\n",
              "      <td>0</td>\n",
              "      <td>1</td>\n",
              "    </tr>\n",
              "    <tr>\n",
              "      <th>8</th>\n",
              "      <td>00037261f536c51d</td>\n",
              "      <td>Sorry if the word 'nonsense' was offensive to ...</td>\n",
              "      <td>0</td>\n",
              "      <td>0</td>\n",
              "      <td>0</td>\n",
              "      <td>0</td>\n",
              "      <td>0</td>\n",
              "      <td>0</td>\n",
              "      <td>1</td>\n",
              "    </tr>\n",
              "    <tr>\n",
              "      <th>9</th>\n",
              "      <td>00040093b2687caa</td>\n",
              "      <td>alignment on this subject and which are contra...</td>\n",
              "      <td>0</td>\n",
              "      <td>0</td>\n",
              "      <td>0</td>\n",
              "      <td>0</td>\n",
              "      <td>0</td>\n",
              "      <td>0</td>\n",
              "      <td>1</td>\n",
              "    </tr>\n",
              "    <tr>\n",
              "      <th>10</th>\n",
              "      <td>0005300084f90edc</td>\n",
              "      <td>\"\\nFair use rationale for Image:Wonju.jpg\\n\\nT...</td>\n",
              "      <td>0</td>\n",
              "      <td>0</td>\n",
              "      <td>0</td>\n",
              "      <td>0</td>\n",
              "      <td>0</td>\n",
              "      <td>0</td>\n",
              "      <td>1</td>\n",
              "    </tr>\n",
              "    <tr>\n",
              "      <th>11</th>\n",
              "      <td>00054a5e18b50dd4</td>\n",
              "      <td>bbq \\n\\nbe a man and lets discuss it-maybe ove...</td>\n",
              "      <td>0</td>\n",
              "      <td>0</td>\n",
              "      <td>0</td>\n",
              "      <td>0</td>\n",
              "      <td>0</td>\n",
              "      <td>0</td>\n",
              "      <td>1</td>\n",
              "    </tr>\n",
              "    <tr>\n",
              "      <th>12</th>\n",
              "      <td>0005c987bdfc9d4b</td>\n",
              "      <td>Hey... what is it..\\n@ | talk .\\nWhat is it......</td>\n",
              "      <td>1</td>\n",
              "      <td>0</td>\n",
              "      <td>0</td>\n",
              "      <td>0</td>\n",
              "      <td>0</td>\n",
              "      <td>0</td>\n",
              "      <td>0</td>\n",
              "    </tr>\n",
              "    <tr>\n",
              "      <th>13</th>\n",
              "      <td>0006f16e4e9f292e</td>\n",
              "      <td>Before you start throwing accusations and warn...</td>\n",
              "      <td>0</td>\n",
              "      <td>0</td>\n",
              "      <td>0</td>\n",
              "      <td>0</td>\n",
              "      <td>0</td>\n",
              "      <td>0</td>\n",
              "      <td>1</td>\n",
              "    </tr>\n",
              "    <tr>\n",
              "      <th>14</th>\n",
              "      <td>00070ef96486d6f9</td>\n",
              "      <td>Oh, and the girl above started her arguments w...</td>\n",
              "      <td>0</td>\n",
              "      <td>0</td>\n",
              "      <td>0</td>\n",
              "      <td>0</td>\n",
              "      <td>0</td>\n",
              "      <td>0</td>\n",
              "      <td>1</td>\n",
              "    </tr>\n",
              "    <tr>\n",
              "      <th>15</th>\n",
              "      <td>00078f8ce7eb276d</td>\n",
              "      <td>\"\\n\\nJuelz Santanas Age\\n\\nIn 2002, Juelz Sant...</td>\n",
              "      <td>0</td>\n",
              "      <td>0</td>\n",
              "      <td>0</td>\n",
              "      <td>0</td>\n",
              "      <td>0</td>\n",
              "      <td>0</td>\n",
              "      <td>1</td>\n",
              "    </tr>\n",
              "    <tr>\n",
              "      <th>16</th>\n",
              "      <td>0007e25b2121310b</td>\n",
              "      <td>Bye! \\n\\nDon't look, come or think of comming ...</td>\n",
              "      <td>1</td>\n",
              "      <td>0</td>\n",
              "      <td>0</td>\n",
              "      <td>0</td>\n",
              "      <td>0</td>\n",
              "      <td>0</td>\n",
              "      <td>0</td>\n",
              "    </tr>\n",
              "    <tr>\n",
              "      <th>17</th>\n",
              "      <td>000897889268bc93</td>\n",
              "      <td>REDIRECT Talk:Voydan Pop Georgiev- Chernodrinski</td>\n",
              "      <td>0</td>\n",
              "      <td>0</td>\n",
              "      <td>0</td>\n",
              "      <td>0</td>\n",
              "      <td>0</td>\n",
              "      <td>0</td>\n",
              "      <td>1</td>\n",
              "    </tr>\n",
              "    <tr>\n",
              "      <th>18</th>\n",
              "      <td>0009801bd85e5806</td>\n",
              "      <td>The Mitsurugi point made no sense - why not ar...</td>\n",
              "      <td>0</td>\n",
              "      <td>0</td>\n",
              "      <td>0</td>\n",
              "      <td>0</td>\n",
              "      <td>0</td>\n",
              "      <td>0</td>\n",
              "      <td>1</td>\n",
              "    </tr>\n",
              "    <tr>\n",
              "      <th>19</th>\n",
              "      <td>0009eaea3325de8c</td>\n",
              "      <td>Don't mean to bother you \\n\\nI see that you're...</td>\n",
              "      <td>0</td>\n",
              "      <td>0</td>\n",
              "      <td>0</td>\n",
              "      <td>0</td>\n",
              "      <td>0</td>\n",
              "      <td>0</td>\n",
              "      <td>1</td>\n",
              "    </tr>\n",
              "  </tbody>\n",
              "</table>\n",
              "</div>"
            ],
            "text/plain": [
              "                  id  ... none\n",
              "0   0000997932d777bf  ...    1\n",
              "1   000103f0d9cfb60f  ...    1\n",
              "2   000113f07ec002fd  ...    1\n",
              "3   0001b41b1c6bb37e  ...    1\n",
              "4   0001d958c54c6e35  ...    1\n",
              "5   00025465d4725e87  ...    1\n",
              "6   0002bcb3da6cb337  ...    0\n",
              "7   00031b1e95af7921  ...    1\n",
              "8   00037261f536c51d  ...    1\n",
              "9   00040093b2687caa  ...    1\n",
              "10  0005300084f90edc  ...    1\n",
              "11  00054a5e18b50dd4  ...    1\n",
              "12  0005c987bdfc9d4b  ...    0\n",
              "13  0006f16e4e9f292e  ...    1\n",
              "14  00070ef96486d6f9  ...    1\n",
              "15  00078f8ce7eb276d  ...    1\n",
              "16  0007e25b2121310b  ...    0\n",
              "17  000897889268bc93  ...    1\n",
              "18  0009801bd85e5806  ...    1\n",
              "19  0009eaea3325de8c  ...    1\n",
              "\n",
              "[20 rows x 9 columns]"
            ]
          },
          "metadata": {
            "tags": []
          },
          "execution_count": 40
        }
      ]
    },
    {
      "cell_type": "code",
      "metadata": {
        "id": "vih4IQiFvdgX"
      },
      "source": [
        "#Based on the above, if we just predicted \"not toxic\" for every single training sample, we would get ~90% accuracy on the training set! \r\n",
        "#So we'll have to be careful in how we interpret our accuracy on this task to make sure we're actually doing better than this."
      ],
      "execution_count": null,
      "outputs": []
    },
    {
      "cell_type": "code",
      "metadata": {
        "colab": {
          "base_uri": "https://localhost:8080/"
        },
        "id": "cc6Nxs4CvqYO",
        "outputId": "a91eac79-b909-41b7-aa11-6738140c2d21"
      },
      "source": [
        "# Tokenization and Truncation\r\n",
        "# Exploring Lengths of our text samples in dataset\r\n",
        "# Loading BERT Tokenizer\r\n",
        "\r\n",
        "from transformers import BertTokenizer\r\n",
        "\r\n",
        "# Load the BERT tokenizer.\r\n",
        "print('Loading BERT tokenizer...')\r\n",
        "tokenizer = BertTokenizer.from_pretrained('bert-base-uncased', do_lower_case=True)"
      ],
      "execution_count": null,
      "outputs": [
        {
          "output_type": "stream",
          "text": [
            "Loading BERT tokenizer...\n"
          ],
          "name": "stdout"
        }
      ]
    },
    {
      "cell_type": "code",
      "metadata": {
        "colab": {
          "base_uri": "https://localhost:8080/"
        },
        "id": "AScSfsAjwLtV",
        "outputId": "fdfdf66a-10c2-4fa2-e210-63a82f766269"
      },
      "source": [
        "import numpy as np\r\n",
        "import logging\r\n",
        " \r\n",
        "# we'll adjust the logging settings to suppress those warnings and keep the output\r\n",
        "# cell cleaner.\r\n",
        "logging.getLogger(\"transformers.tokenization_utils_base\").setLevel(logging.ERROR)\r\n",
        "\r\n",
        "# Record the length of each sequence (in terms of BERT tokens).\r\n",
        "lengths = []\r\n",
        "\r\n",
        "print('Tokenizing comments...')\r\n",
        "\r\n",
        "# For every sentence...\r\n",
        "for index, row in train.iterrows():\r\n",
        "    \r\n",
        "    # Report progress.\r\n",
        "    if ((len(lengths) % 20000) == 0):\r\n",
        "        print('  Tokenized {:,} comments.'.format(len(lengths)))\r\n",
        "    \r\n",
        "    \r\n",
        "    encoded_sent = tokenizer.encode(\r\n",
        "                        row['comment_text'],     \r\n",
        "                        add_special_tokens = True, \r\n",
        "                   )\r\n",
        "    \r\n",
        "    # Record the non-truncated length.\r\n",
        "    lengths.append(len(encoded_sent))\r\n",
        "\r\n",
        "print('DONE.')"
      ],
      "execution_count": null,
      "outputs": [
        {
          "output_type": "stream",
          "text": [
            "Tokenizing comments...\n",
            "  Tokenized 0 comments.\n",
            "  Tokenized 20,000 comments.\n",
            "  Tokenized 40,000 comments.\n",
            "  Tokenized 60,000 comments.\n",
            "  Tokenized 80,000 comments.\n",
            "  Tokenized 100,000 comments.\n",
            "  Tokenized 120,000 comments.\n",
            "  Tokenized 140,000 comments.\n",
            "DONE.\n"
          ],
          "name": "stdout"
        }
      ]
    },
    {
      "cell_type": "code",
      "metadata": {
        "id": "qLI2z-8qwu4s",
        "colab": {
          "base_uri": "https://localhost:8080/"
        },
        "outputId": "01ae992d-68ea-4f61-e42e-c257c2809df1"
      },
      "source": [
        "print('   Min length: {:,} tokens'.format(min(lengths)))\r\n",
        "print('   Max length: {:,} tokens'.format(max(lengths)))\r\n",
        "print('Median length: {:,} tokens'.format(int(np.median(lengths))))"
      ],
      "execution_count": null,
      "outputs": [
        {
          "output_type": "stream",
          "text": [
            "   Min length: 4 tokens\n",
            "   Max length: 4,950 tokens\n",
            "Median length: 52 tokens\n"
          ],
          "name": "stdout"
        }
      ]
    },
    {
      "cell_type": "code",
      "metadata": {
        "id": "ZJpqBsE_v3ww",
        "colab": {
          "base_uri": "https://localhost:8080/",
          "height": 427
        },
        "outputId": "ee648c72-ef4f-48de-8355-8f2429ad9172"
      },
      "source": [
        "# Let's visualise the comments length\n",
        "import matplotlib.pyplot as plt\n",
        "import seaborn as sns\n",
        "import numpy as np\n",
        "\n",
        "sns.set(style='darkgrid')\n",
        "\n",
        "# Increase the plot size and font size.\n",
        "sns.set(font_scale=1.5)\n",
        "plt.rcParams[\"figure.figsize\"] = (10,5)\n",
        "\n",
        "# Truncate any comment lengths greater than 512.\n",
        "trunc_lengths = [min(l, 512) for l in lengths]\n",
        "\n",
        "# Plot the distribution of comment lengths.\n",
        "sns.distplot(trunc_lengths, kde=False, rug=False)\n",
        "\n",
        "plt.title('Comment Lengths')\n",
        "plt.xlabel('Comment Length')\n",
        "plt.ylabel('# of Comments')\n",
        "\n",
        "plt.show()"
      ],
      "execution_count": null,
      "outputs": [
        {
          "output_type": "stream",
          "text": [
            "/usr/local/lib/python3.6/dist-packages/seaborn/distributions.py:2557: FutureWarning: `distplot` is a deprecated function and will be removed in a future version. Please adapt your code to use either `displot` (a figure-level function with similar flexibility) or `histplot` (an axes-level function for histograms).\n",
            "  warnings.warn(msg, FutureWarning)\n"
          ],
          "name": "stderr"
        },
        {
          "output_type": "display_data",
          "data": {
            "image/png": "[encoded data removed]",
            "text/plain": [
              "<Figure size 720x360 with 1 Axes>"
            ]
          },
          "metadata": {
            "tags": []
          }
        }
      ]
    },
    {
      "cell_type": "code",
      "metadata": {
        "id": "-r4IUMiWx8fC",
        "colab": {
          "base_uri": "https://localhost:8080/"
        },
        "outputId": "6ca32e02-5e0f-4df4-ed40-7481319f6fec"
      },
      "source": [
        "#Clearly the majority of the comments are relatively short. Let's count up \r\n",
        "# how many comments would be truncated based on different choices of max_len\r\n",
        "\r\n",
        "# Cast the list to a numpy array so we can use some numpy features.\r\n",
        "lengths = np.asarray(lengths)\r\n",
        "\r\n",
        "# Get the total number of comments.\r\n",
        "num_comments = len(lengths)\r\n",
        "\r\n",
        "# Check the following lengths:\r\n",
        "max_lens = [128, 256, 300, 400, 512]\r\n",
        "\r\n",
        "print('How many comments will be truncated?\\n')\r\n",
        "\r\n",
        "# For each choice...\r\n",
        "for max_len in max_lens:\r\n",
        "\r\n",
        "    # Calculate how many comments will be truncacted.\r\n",
        "    num_over = np.sum(lengths > max_len)\r\n",
        "\r\n",
        "    # And as a percentage.\r\n",
        "    prcnt_over = float(num_over) / float(num_comments)\r\n",
        "\r\n",
        "    print('max_len = {:}  -->  {:>7,} of {:>7,}  ({:>5.1%})  ' \\\r\n",
        "          'will be truncated '.format(\r\n",
        "              max_len, num_over, num_comments, prcnt_over\r\n",
        "          ))"
      ],
      "execution_count": null,
      "outputs": [
        {
          "output_type": "stream",
          "text": [
            "How many comments will be truncated?\n",
            "\n",
            "max_len = 128  -->   30,790 of 159,571  (19.3%)  will be truncated \n",
            "max_len = 256  -->   11,063 of 159,571  ( 6.9%)  will be truncated \n",
            "max_len = 300  -->    8,446 of 159,571  ( 5.3%)  will be truncated \n",
            "max_len = 400  -->    5,160 of 159,571  ( 3.2%)  will be truncated \n",
            "max_len = 512  -->    3,523 of 159,571  ( 2.2%)  will be truncated \n"
          ],
          "name": "stdout"
        }
      ]
    },
    {
      "cell_type": "code",
      "metadata": {
        "id": "kni1aJP0yTnY"
      },
      "source": [
        "# Set our sequence length to pad or truncate all of our samples to.\r\n",
        "max_len = 128"
      ],
      "execution_count": null,
      "outputs": []
    },
    {
      "cell_type": "code",
      "metadata": {
        "id": "ePmpDmpjysC7",
        "colab": {
          "base_uri": "https://localhost:8080/"
        },
        "outputId": "a7c2229a-a443-45a9-d0e5-d5cb5ca0f01a"
      },
      "source": [
        "import torch\r\n",
        "import time\r\n",
        "\r\n",
        "input_ids = []\r\n",
        "attn_masks = []\r\n",
        "labels = []\r\n",
        "\r\n",
        "t0 = time.time()\r\n",
        "\r\n",
        "# ======== Encoding ========\r\n",
        "\r\n",
        "print('Encoding {:,} training examples...'.format(len(train)))\r\n",
        "\r\n",
        "# For every training example...\r\n",
        "for (index, row) in train.iterrows():\r\n",
        "\r\n",
        "    # Report progress.\r\n",
        "    if ((len(input_ids) % 15000) == 0):\r\n",
        "        print('  Encoded {:,} comments.'.format(len(input_ids)))\r\n",
        "\r\n",
        "    # Convert sentence pairs to input IDs, with attention masks.\r\n",
        "    encoded_dict = tokenizer.encode_plus(row['comment_text'],  \r\n",
        "                                        max_length=max_len,    \r\n",
        "                                        pad_to_max_length=True,\r\n",
        "                                        truncation=True, \r\n",
        "                                        return_tensors='pt')   \r\n",
        "\r\n",
        "    # Add this example to our lists.\r\n",
        "    input_ids.append(encoded_dict['input_ids'])\r\n",
        "    attn_masks.append(encoded_dict['attention_mask'])\r\n",
        "    \r\n",
        "print('\\nDONE. {:,} examples.'.format(len(input_ids)))\r\n",
        "\r\n",
        "# ======== List of Examples --> Tensor ========\r\n",
        "\r\n",
        "# Convert each Python list of Tensors into a 2D Tensor matrix.\r\n",
        "input_ids = torch.cat(input_ids, dim=0)\r\n",
        "attn_masks = torch.cat(attn_masks, dim=0)\r\n",
        "\r\n",
        "# ======== Prepare Labels ========\r\n",
        "\r\n",
        "# Select the label columns for all examples.\r\n",
        "labels = train[['toxic', 'severe_toxic', 'obscene', 'threat', 'insult', 'identity_hate']]\r\n",
        "\r\n",
        "# The labels are either 0 or 1. Despite this, we need to cast the values to\r\n",
        "\r\n",
        "labels = labels.to_numpy().astype(float)\r\n",
        "\r\n",
        "# Cast the labels list to a 2D Tensor.\r\n",
        "labels = torch.tensor(labels)\r\n",
        "\r\n",
        "# ======== Summary ========\r\n",
        "\r\n",
        "print('\\nData structure shapes:')\r\n",
        "print('   input_ids:  {:}'.format(str(input_ids.shape)))\r\n",
        "print('  attn_masks:  {:}'.format(str(attn_masks.shape)))\r\n",
        "print('      labels:  {:}'.format(str(labels.shape)))\r\n",
        "\r\n",
        "print('\\nEncoding took {:.0f} seconds'.format(time.time() - t0))"
      ],
      "execution_count": null,
      "outputs": [
        {
          "output_type": "stream",
          "text": [
            "Encoding 159,571 training examples...\n",
            "  Encoded 0 comments.\n"
          ],
          "name": "stdout"
        },
        {
          "output_type": "stream",
          "text": [
            "/usr/local/lib/python3.6/dist-packages/transformers/tokenization_utils_base.py:2143: FutureWarning: The `pad_to_max_length` argument is deprecated and will be removed in a future version, use `padding=True` or `padding='longest'` to pad to the longest sequence in the batch, or use `padding='max_length'` to pad to a max length. In this case, you can give a specific length with `max_length` (e.g. `max_length=45`) or leave max_length to None to pad to the maximal input size of the model (e.g. 512 for Bert).\n",
            "  FutureWarning,\n"
          ],
          "name": "stderr"
        },
        {
          "output_type": "stream",
          "text": [
            "  Encoded 15,000 comments.\n",
            "  Encoded 30,000 comments.\n",
            "  Encoded 45,000 comments.\n",
            "  Encoded 60,000 comments.\n",
            "  Encoded 75,000 comments.\n",
            "  Encoded 90,000 comments.\n",
            "  Encoded 105,000 comments.\n",
            "  Encoded 120,000 comments.\n",
            "  Encoded 135,000 comments.\n",
            "  Encoded 150,000 comments.\n",
            "\n",
            "DONE. 159,571 examples.\n",
            "\n",
            "Data structure shapes:\n",
            "   input_ids:  torch.Size([159571, 128])\n",
            "  attn_masks:  torch.Size([159571, 128])\n",
            "      labels:  torch.Size([159571, 6])\n",
            "\n",
            "Encoding took 276 seconds\n"
          ],
          "name": "stdout"
        }
      ]
    },
    {
      "cell_type": "code",
      "metadata": {
        "id": "5sOc9hWgzL_Q"
      },
      "source": [
        "# Dividing the train set to train and validation set\r\n",
        "from torch.utils.data import TensorDataset, random_split\r\n",
        "\r\n",
        "# Combine the training inputs into a TensorDataset.\r\n",
        "dataset = TensorDataset(input_ids, attn_masks, labels)\r\n",
        "\r\n",
        "# Create a 90-10 train-validation split. Calculate the number of samples to \r\n",
        "# include in each set.\r\n",
        "train_size = int(0.9 * len(dataset))\r\n",
        "val_size = len(dataset) - train_size\r\n",
        "\r\n",
        "# Divide the dataset by randomly selecting samples.\r\n",
        "train_dataset, val_dataset = random_split(dataset, [train_size, val_size])"
      ],
      "execution_count": null,
      "outputs": []
    },
    {
      "cell_type": "code",
      "metadata": {
        "id": "p4EK1taO1FyB"
      },
      "source": [
        "# Using Colab GPU for Training\r\n",
        "import torch\r\n",
        "torch.cuda.empty_cache()\r\n",
        "# If there's a GPU available...\r\n",
        "if torch.cuda.is_available():    \r\n",
        "\r\n",
        "    # Tell PyTorch to use the GPU.    \r\n",
        "    device = torch.device(\"cuda\")\r\n",
        "\r\n",
        "    print('There are %d GPU(s) available.' % torch.cuda.device_count())\r\n",
        "\r\n",
        "    print('We will use the GPU:', torch.cuda.get_device_name(0))\r\n",
        "\r\n",
        "# If not...\r\n",
        "else:\r\n",
        "    print('No GPU available, using the CPU instead.')\r\n",
        "    device = torch.device(\"cpu\")"
      ],
      "execution_count": null,
      "outputs": []
    },
    {
      "cell_type": "code",
      "metadata": {
        "id": "SomcsvX5bi1U"
      },
      "source": [
        "# BERT Model for Multilabel Classification\n",
        "from torch import nn\n",
        "from torch.nn import BCEWithLogitsLoss\n",
        "from transformers import BertPreTrainedModel, BertModel\n",
        "\n",
        "class BertForMultiLabelSequenceClassification(BertPreTrainedModel):\n",
        "    '''\n",
        "    This custom class closely resembles BertForSequenceClassification, which\n",
        "    supports multiclass classification, but not multi-label.\n",
        "    This modified version supports data points with multiple labels.\n",
        "    '''\n",
        "\n",
        "    def __init__(self, config):\n",
        "        '''\n",
        "        Class initializer, called when we create a new instance of this class.\n",
        "        '''\n",
        "\n",
        "        # Call the init function of the parent class (BertPreTrainedModel)        \n",
        "        super().__init__(config)\n",
        "       \n",
        "        # Store the number of labels.\n",
        "        self.num_labels = config.num_labels\n",
        "        \n",
        "        # Create a `BertModel`--this implements all of BERT except for the final\n",
        "        # task-specific output layer (which is what we'll do here in `forward`). \n",
        "        self.bert = BertModel(config)\n",
        "\n",
        "        # Setup dropout object (note: I'm not familiar enough to speak to this).\n",
        "        self.dropout = nn.Dropout(config.hidden_dropout_prob)\n",
        "\n",
        "        \n",
        "        self.classifier = nn.Linear(config.hidden_size, config.num_labels)\n",
        "\n",
        "        # Initialize model weights (inherited function).\n",
        "        self.init_weights()\n",
        "\n",
        "    def forward(\n",
        "        self,\n",
        "        input_ids=None,\n",
        "        attention_mask=None,\n",
        "        token_type_ids=None,\n",
        "        position_ids=None,\n",
        "        head_mask=None,\n",
        "        inputs_embeds=None,\n",
        "        labels=None,\n",
        "        output_attentions=None,\n",
        "        output_hidden_states=None,\n",
        "    ):\n",
        " \n",
        "\n",
        "      \n",
        "        outputs = self.bert(\n",
        "            input_ids,                      \n",
        "            attention_mask=attention_mask,  \n",
        "            token_type_ids=token_type_ids,  \n",
        "            position_ids=position_ids,      \n",
        "            head_mask=head_mask,            \n",
        "            inputs_embeds=inputs_embeds,    \n",
        "                                            \n",
        "            output_attentions=output_attentions, \n",
        "                                                 \n",
        "            output_hidden_states=output_hidden_states, \n",
        "                                                       \n",
        "                                                       \n",
        "        )\n",
        "\n",
        "        \n",
        "        final_embeddings = outputs[0]\n",
        "\n",
        "        \n",
        "        activated_cls = outputs[1]\n",
        "\n",
        "        logits = self.classifier(activated_cls)\n",
        "        \n",
        "        # ===================\n",
        "        #   Training Mode\n",
        "        # ===================\n",
        "\n",
        "        if labels is not None:\n",
        "          \n",
        "          loss_fct = BCEWithLogitsLoss()\n",
        "\n",
        "            # Call the loss function, giving it the `logits` and the correct\n",
        "            # `labels`.\n",
        "          loss = loss_fct(logits.view(-1, self.num_labels), # The logits\n",
        "                            labels.view(-1, self.num_labels)) # The labels\n",
        "\n",
        "            \n",
        "          return ((loss, logits) + outputs[2:])\n",
        "\n",
        "        \n",
        "        else:\n",
        "            return ((logits,) + outputs[2:])"
      ],
      "execution_count": null,
      "outputs": []
    },
    {
      "cell_type": "code",
      "metadata": {
        "id": "qJc_ki382ohQ"
      },
      "source": [
        "# Initialize BERT Model with Pre-Trained Weights\r\n",
        "from transformers import AdamW, BertConfig\r\n",
        "\r\n",
        "# Load BertForSequenceClassification, the pretrained BERT model with a single \r\n",
        "# linear classification layer on top. \r\n",
        "model = BertForMultiLabelSequenceClassification.from_pretrained(\r\n",
        "    \"bert-base-uncased\", # Use the 12-layer BERT model, with an uncased vocab.\r\n",
        "    num_labels = 6,    \r\n",
        "    output_attentions = False, # Whether the model returns attentions weights.\r\n",
        "    output_hidden_states = False, # Whether the model returns all hidden-states.\r\n",
        ")\r\n",
        "\r\n",
        "# Tell pytorch to run this model on the GPU.\r\n",
        "desc = model.cuda()\r\n",
        "\r\n",
        "print (\"Model loaded.\")\r\n"
      ],
      "execution_count": null,
      "outputs": []
    },
    {
      "cell_type": "code",
      "metadata": {
        "id": "R2qQBA-322df"
      },
      "source": [
        "# Batch Size and DataLoaders\r\n",
        "\r\n",
        "from torch.utils.data import DataLoader, RandomSampler, SequentialSampler\r\n",
        "\r\n",
        "# Specify our batch size.\r\n",
        "batch_size = 16\r\n",
        "\r\n",
        "# Create the DataLoaders for our training sets.\r\n",
        "# We'll take training samples in random order. \r\n",
        "train_dataloader = DataLoader(\r\n",
        "            train_dataset,  # The training samples.\r\n",
        "            sampler = RandomSampler(train_dataset), # Select batches randomly\r\n",
        "            batch_size = batch_size # Trains with this batch size.\r\n",
        "        )\r\n",
        "\r\n",
        "# For validation the order doesn't matter, so we'll just read them sequentially.\r\n",
        "validation_dataloader = DataLoader(\r\n",
        "            val_dataset, # The validation samples.\r\n",
        "            sampler = SequentialSampler(val_dataset), # Pull out batches sequentially.\r\n",
        "            batch_size = batch_size # Evaluate with this batch size.\r\n",
        "        )"
      ],
      "execution_count": null,
      "outputs": []
    },
    {
      "cell_type": "code",
      "metadata": {
        "id": "PamwXDV448vF"
      },
      "source": [
        "# Optimizer\r\n",
        "optimizer = AdamW(model.parameters(),\r\n",
        "                  lr = 2e-5, # the authors recommend the following choices of learning rates: 5e-5, 3e-5, 2e-5 (We'll use 2e-5)\r\n",
        "                  eps = 1e-8 \r\n",
        "                )\r\n"
      ],
      "execution_count": null,
      "outputs": []
    },
    {
      "cell_type": "code",
      "metadata": {
        "id": "jhhGacNA5Tw7"
      },
      "source": [
        "#  Epochs & Learning Rate Scheduler\r\n",
        "from transformers import get_linear_schedule_with_warmup\r\n",
        "\r\n",
        "# Number of training epochs (BERT authors recommend between 2 and 4)\r\n",
        "epochs = 3\r\n",
        "\r\n",
        "# Total number of training steps is number of batches * number of epochs.\r\n",
        "total_steps = len(train_dataloader) * epochs\r\n",
        "\r\n",
        "# Create the learning rate scheduler.\r\n",
        "scheduler = get_linear_schedule_with_warmup(optimizer, \r\n",
        "                                            num_warmup_steps = 0, # Default value in run_glue.py\r\n",
        "                                            num_training_steps = total_steps)"
      ],
      "execution_count": null,
      "outputs": []
    },
    {
      "cell_type": "code",
      "metadata": {
        "id": "wC7ujCOR5uup"
      },
      "source": [
        "# Some Helper functions\r\n",
        "# Helper function for formatting elapsed times.\r\n",
        "\r\n",
        "import time\r\n",
        "import datetime\r\n",
        "\r\n",
        "def format_time(elapsed):\r\n",
        "    '''\r\n",
        "    Takes a time in seconds and returns a string hh:mm:ss\r\n",
        "    '''\r\n",
        "    # Round to the nearest second.\r\n",
        "    elapsed_rounded = int(round((elapsed)))\r\n",
        "    \r\n",
        "    # Format as hh:mm:ss\r\n",
        "    return str(datetime.timedelta(seconds=elapsed_rounded))  \r\n"
      ],
      "execution_count": null,
      "outputs": []
    },
    {
      "cell_type": "code",
      "metadata": {
        "id": "jPLIvtUA6By4"
      },
      "source": [
        "# Helper function to automatically pick a reasonable interval for printing out a progress update during training.\r\n",
        "\r\n",
        "def good_update_interval(total_iters, num_desired_updates):\r\n",
        "    '''\r\n",
        "    This function will try to pick an intelligent progress update interval \r\n",
        "    '''\r\n",
        "    \r\n",
        "    exact_interval = total_iters / num_desired_updates\r\n",
        "\r\n",
        "    \r\n",
        "    # Get the order of magnitude of the total.\r\n",
        "    order_of_mag = len(str(total_iters)) - 1\r\n",
        "\r\n",
        "    # Our update interval should be rounded to an order of magnitude smaller. \r\n",
        "    round_mag = order_of_mag - 1\r\n",
        "\r\n",
        "    # Round down and cast to an int.\r\n",
        "    update_interval = int(round(exact_interval, -round_mag))\r\n",
        "\r\n",
        "    # Don't allow the interval to be zero!\r\n",
        "    if update_interval == 0:\r\n",
        "        update_interval = 1\r\n",
        "\r\n",
        "    return update_interval"
      ],
      "execution_count": null,
      "outputs": []
    },
    {
      "cell_type": "code",
      "metadata": {
        "id": "CnBiLh2H6HF4"
      },
      "source": [
        "# Submissions for the Toxic Comments Challenge are evaluated \"on the mean column-wise ROC AUC\"\r\n",
        "from sklearn.metrics import roc_auc_score\r\n",
        "\r\n",
        "# A quick example...\r\n",
        "true_labels = [0,1,0,0,1]\r\n",
        "pred_labels = [0,1,0,0,0]\r\n",
        "\r\n",
        "score = roc_auc_score(true_labels, pred_labels, average='macro')\r\n",
        "\r\n",
        "print('Example ROC AUC score:', score)"
      ],
      "execution_count": null,
      "outputs": []
    },
    {
      "cell_type": "code",
      "metadata": {
        "id": "XB06aBGEev3e",
        "colab": {
          "base_uri": "https://localhost:8080/"
        },
        "outputId": "a7f084ea-3e93-4a92-baeb-3c290b3eedda"
      },
      "source": [
        "import random\n",
        "import numpy as np\n",
        "\n",
        "# This training code is based on the `run_glue.py` script here:\n",
        "# https://github.com/huggingface/transformers/blob/5bfcd0485ece086ebcbed2d008813037968a9e58/examples/run_glue.py#L128\n",
        "\n",
        "# Set the seed value all over the place to make this reproducible.\n",
        "seed_val = 42\n",
        "\n",
        "random.seed(seed_val)\n",
        "np.random.seed(seed_val)\n",
        "torch.manual_seed(seed_val)\n",
        "torch.cuda.manual_seed_all(seed_val)\n",
        "\n",
        "# We'll store a number of quantities such as training and validation loss, \n",
        "# validation accuracy, and timings.\n",
        "training_stats = []\n",
        "\n",
        "# Measure the total training time for the whole run.\n",
        "total_t0 = time.time()\n",
        "\n",
        "# For each epoch...\n",
        "for epoch_i in range(0, epochs):\n",
        "    \n",
        "    # ========================================\n",
        "    #               Training\n",
        "    # ========================================\n",
        "    \n",
        "    # Perform one full pass over the training set.\n",
        "\n",
        "    print(\"\")\n",
        "    print('======== Epoch {:} / {:} ========'.format(epoch_i + 1, epochs))\n",
        "    print('Training...')\n",
        "\n",
        "    # Measure how long the training epoch takes.\n",
        "    t0 = time.time()\n",
        "\n",
        "    # Reset the total loss for this epoch.\n",
        "    total_train_loss = 0\n",
        "\n",
        "    # Put the model into training mode. Don't be mislead--the call to \n",
        "    # `train` just changes the *mode*, it doesn't *perform* the training.\n",
        "    # `dropout` and `batchnorm` layers behave differently during training\n",
        "    # vs. test (source: https://stackoverflow.com/questions/51433378/what-does-model-train-do-in-pytorch)\n",
        "    model.train()\n",
        "\n",
        "    # Pick an interval on which to print progress updates.\n",
        "    update_interval = good_update_interval(\n",
        "                total_iters = len(train_dataloader), \n",
        "                num_desired_updates = 10\n",
        "            )\n",
        "\n",
        "    # For each batch of training data...\n",
        "    for step, batch in enumerate(train_dataloader):\n",
        "\n",
        "        # Progress update.\n",
        "        if (step % update_interval) == 0 and not step == 0:\n",
        "            # Calculate elapsed time in minutes.\n",
        "            elapsed = format_time(time.time() - t0)\n",
        "            \n",
        "            # Report progress.\n",
        "            print('  Batch {:>5,}  of  {:>5,}.    Elapsed: {:}.'.format(step, len(train_dataloader), elapsed))\n",
        "\n",
        "        # Unpack this training batch from our dataloader. \n",
        "        #\n",
        "        # As we unpack the batch, we'll also copy each tensor to the GPU using \n",
        "        # the `to` method.\n",
        "        #\n",
        "        # `batch` contains three pytorch tensors:\n",
        "        #   [0]: input ids \n",
        "        #   [1]: attention masks\n",
        "        #   [2]: labels \n",
        "        b_input_ids = batch[0].to(device)\n",
        "        b_input_mask = batch[1].to(device)\n",
        "        b_labels = batch[2].to(device)\n",
        "\n",
        "        # Always clear any previously calculated gradients before performing a\n",
        "        # backward pass. PyTorch doesn't do this automatically because \n",
        "        # accumulating the gradients is \"convenient while training RNNs\". \n",
        "        # (source: https://stackoverflow.com/questions/48001598/why-do-we-need-to-call-zero-grad-in-pytorch)\n",
        "        model.zero_grad()        \n",
        "\n",
        "        # Perform a forward pass (evaluate the model on this training batch).\n",
        "        # This call returns the loss (because we provided labels) and the \n",
        "        # \"logits\"--the model outputs prior to activation.\n",
        "        loss, logits = model(b_input_ids, \n",
        "                             token_type_ids=None, \n",
        "                             attention_mask=b_input_mask, \n",
        "                             labels=b_labels)\n",
        "\n",
        "        # Accumulate the training loss over all of the batches so that we can\n",
        "        # calculate the average loss at the end. `loss` is a Tensor containing a\n",
        "        # single value; the `.item()` function just returns the Python value \n",
        "        # from the tensor.\n",
        "        total_train_loss += loss.item()\n",
        "\n",
        "        # Perform a backward pass to calculate the gradients.\n",
        "        loss.backward()\n",
        "\n",
        "        # Clip the norm of the gradients to 1.0.\n",
        "        # This is to help prevent the \"exploding gradients\" problem.\n",
        "        torch.nn.utils.clip_grad_norm_(model.parameters(), 1.0)\n",
        "\n",
        "        # Update parameters and take a step using the computed gradient.\n",
        "        # The optimizer dictates the \"update rule\"--how the parameters are\n",
        "        # modified based on their gradients, the learning rate, etc.\n",
        "        optimizer.step()\n",
        "\n",
        "        # Update the learning rate.\n",
        "        scheduler.step()\n",
        "\n",
        "    # Calculate the average loss over all of the batches.\n",
        "    avg_train_loss = total_train_loss / len(train_dataloader)            \n",
        "    \n",
        "    # Measure how long this epoch took.\n",
        "    training_time = format_time(time.time() - t0)\n",
        "\n",
        "    print(\"\")\n",
        "    print(\"  Average training loss: {0:.2f}\".format(avg_train_loss))\n",
        "    print(\"  Training epcoh took: {:}\".format(training_time))\n",
        "        \n",
        " \n",
        "    # ========================================\n",
        "    #               Validation\n",
        "    # ========================================\n",
        "    # After the completion of each training epoch, measure our performance on\n",
        "    # our validation set.\n",
        "\n",
        "    print(\"\")\n",
        "    print(\"Running Validation...\")\n",
        "\n",
        "    t0 = time.time()\n",
        "\n",
        "    # Put the model in evaluation mode--the dropout layers behave differently\n",
        "    # during evaluation.\n",
        "    model.eval()\n",
        "\n",
        "    # Tracking variables \n",
        "    total_eval_loss = 0\n",
        "\n",
        "    predictions, true_labels = [], []\n",
        "\n",
        "    # Evaluate data for one epoch\n",
        "    for batch in validation_dataloader:\n",
        "        \n",
        "        # Unpack this training batch from our dataloader. \n",
        "        #\n",
        "        # As we unpack the batch, we'll also copy each tensor to the GPU using \n",
        "        # the `to` method.\n",
        "        #\n",
        "        # `batch` contains three pytorch tensors:\n",
        "        #   [0]: input ids \n",
        "        #   [1]: attention masks\n",
        "        #   [2]: labels \n",
        "        b_input_ids = batch[0].to(device)\n",
        "        b_input_mask = batch[1].to(device)\n",
        "        b_labels = batch[2].to(device)\n",
        "        \n",
        "        # Tell pytorch not to bother with constructing the compute graph during\n",
        "        # the forward pass, since this is only needed for backprop (training).\n",
        "        with torch.no_grad():   \n",
        "   \n",
        "\n",
        "            # Forward pass, calculate logit predictions.\n",
        "            # token_type_ids is the same as the \"segment ids\", which \n",
        "            # differentiates sentence 1 and 2 in 2-sentence tasks.\n",
        "            # The documentation for this `model` function is here: \n",
        "            # https://huggingface.co/transformers/v2.2.0/model_doc/bert.html#transformers.BertForSequenceClassification\n",
        "            # Get the \"logits\" output by the model. The \"logits\" are the output\n",
        "            # values prior to applying an activation function like the softmax.\n",
        "            (loss, logits) = model(b_input_ids, \n",
        "                                   token_type_ids=None, \n",
        "                                   attention_mask=b_input_mask,\n",
        "                                   labels=b_labels)\n",
        "\n",
        "        # Accumulate the validation loss.\n",
        "        total_eval_loss += loss.item()\n",
        "\n",
        "        # Calculate the accuracy for this batch of test sentences.\n",
        "\n",
        "        # Move logits and labels to CPU\n",
        "        logits = logits.detach().cpu().numpy()\n",
        "        label_ids = b_labels.to('cpu').numpy()\n",
        "\n",
        "        # Store predictions and true labels\n",
        "        predictions.append(logits)\n",
        "        true_labels.append(label_ids)\n",
        "\n",
        "    # Measure validation accuracy...\n",
        "\n",
        "    # Combine the results across all batches. \n",
        "    flat_predictions = np.concatenate(predictions, axis=0)\n",
        "    flat_true_labels = np.concatenate(true_labels, axis=0)\n",
        "\n",
        "    # Calculate the validation accuracy.\n",
        "    val_accuracy = roc_auc_score(flat_true_labels, flat_predictions, average='macro')\n",
        "\n",
        "    # Report the final accuracy for this validation run.\n",
        "    print(\"  Accuracy: {0:.2f}\".format(val_accuracy))\n",
        "\n",
        "    # Calculate the average loss over all of the batches.\n",
        "    avg_val_loss = total_eval_loss / len(validation_dataloader)\n",
        "    \n",
        "    # Measure how long the validation run took.\n",
        "    validation_time = format_time(time.time() - t0)\n",
        "    \n",
        "    print(\"  Validation Loss: {0:.2f}\".format(avg_val_loss))\n",
        "    print(\"  Validation took: {:}\".format(validation_time))\n",
        "\n",
        "    # Record all statistics from this epoch.\n",
        "    training_stats.append(\n",
        "        {\n",
        "            'epoch': epoch_i + 1,\n",
        "            'Training Loss': avg_train_loss,\n",
        "            'Valid. Loss': avg_val_loss,\n",
        "            'Valid. Accur.': val_accuracy,\n",
        "            'Training Time': training_time,\n",
        "            'Validation Time': validation_time\n",
        "        }\n",
        "    )\n",
        "\n",
        "print(\"\")\n",
        "print(\"Training complete!\")\n",
        "\n",
        "print(\"Total training took {:} (h:mm:ss)\".format(format_time(time.time()-total_t0)))"
      ],
      "execution_count": null,
      "outputs": [
        {
          "output_type": "stream",
          "text": [
            "\n",
            "======== Epoch 1 / 3 ========\n",
            "Training...\n",
            "  Batch   900  of  8,976.    Elapsed: 0:02:10.\n",
            "  Batch 1,800  of  8,976.    Elapsed: 0:04:21.\n",
            "  Batch 2,700  of  8,976.    Elapsed: 0:06:31.\n",
            "  Batch 3,600  of  8,976.    Elapsed: 0:08:41.\n",
            "  Batch 4,500  of  8,976.    Elapsed: 0:10:50.\n",
            "  Batch 5,400  of  8,976.    Elapsed: 0:13:00.\n",
            "  Batch 6,300  of  8,976.    Elapsed: 0:15:10.\n",
            "  Batch 7,200  of  8,976.    Elapsed: 0:17:20.\n",
            "  Batch 8,100  of  8,976.    Elapsed: 0:19:30.\n",
            "\n",
            "  Average training loss: 0.05\n",
            "  Training epcoh took: 0:21:37\n",
            "\n",
            "Running Validation...\n",
            "  Accuracy: 0.99\n",
            "  Validation Loss: 0.04\n",
            "  Validation took: 0:00:37\n",
            "\n",
            "======== Epoch 2 / 3 ========\n",
            "Training...\n",
            "  Batch   900  of  8,976.    Elapsed: 0:02:10.\n",
            "  Batch 1,800  of  8,976.    Elapsed: 0:04:20.\n",
            "  Batch 2,700  of  8,976.    Elapsed: 0:06:30.\n",
            "  Batch 3,600  of  8,976.    Elapsed: 0:08:40.\n",
            "  Batch 4,500  of  8,976.    Elapsed: 0:10:50.\n",
            "  Batch 5,400  of  8,976.    Elapsed: 0:13:00.\n",
            "  Batch 6,300  of  8,976.    Elapsed: 0:15:11.\n",
            "  Batch 7,200  of  8,976.    Elapsed: 0:17:21.\n",
            "  Batch 8,100  of  8,976.    Elapsed: 0:19:31.\n",
            "\n",
            "  Average training loss: 0.03\n",
            "  Training epcoh took: 0:21:37\n",
            "\n",
            "Running Validation...\n",
            "  Accuracy: 0.99\n",
            "  Validation Loss: 0.04\n",
            "  Validation took: 0:00:37\n",
            "\n",
            "======== Epoch 3 / 3 ========\n",
            "Training...\n",
            "  Batch   900  of  8,976.    Elapsed: 0:02:08.\n",
            "  Batch 1,800  of  8,976.    Elapsed: 0:04:18.\n",
            "  Batch 2,700  of  8,976.    Elapsed: 0:06:27.\n",
            "  Batch 3,600  of  8,976.    Elapsed: 0:08:36.\n",
            "  Batch 4,500  of  8,976.    Elapsed: 0:10:45.\n",
            "  Batch 5,400  of  8,976.    Elapsed: 0:12:53.\n",
            "  Batch 6,300  of  8,976.    Elapsed: 0:15:01.\n",
            "  Batch 7,200  of  8,976.    Elapsed: 0:17:11.\n",
            "  Batch 8,100  of  8,976.    Elapsed: 0:19:20.\n",
            "\n",
            "  Average training loss: 0.02\n",
            "  Training epcoh took: 0:21:25\n",
            "\n",
            "Running Validation...\n",
            "  Accuracy: 0.99\n",
            "  Validation Loss: 0.04\n",
            "  Validation took: 0:00:37\n",
            "\n",
            "Training complete!\n",
            "Total training took 1:06:30 (h:mm:ss)\n"
          ],
          "name": "stdout"
        }
      ]
    },
    {
      "cell_type": "code",
      "metadata": {
        "id": "rtxx8GfB8wBO"
      },
      "source": [
        ""
      ],
      "execution_count": null,
      "outputs": []
    },
    {
      "cell_type": "code",
      "metadata": {
        "colab": {
          "base_uri": "https://localhost:8080/",
          "height": 167
        },
        "id": "snz89J32iT1Z",
        "outputId": "df029f06-59cb-4088-c522-9c176a7622f1"
      },
      "source": [
        "# Training Results\r\n",
        "import pandas as pd\r\n",
        "\r\n",
        "# Display floats with two decimal places.\r\n",
        "pd.set_option('precision', 2)\r\n",
        "\r\n",
        "# Create a DataFrame from our training statistics.\r\n",
        "df_stats = pd.DataFrame(data=training_stats)\r\n",
        "\r\n",
        "# Use the 'epoch' as the row index.\r\n",
        "df_stats = df_stats.set_index('epoch')\r\n",
        "\r\n",
        "# Display the table.\r\n",
        "df_stats"
      ],
      "execution_count": null,
      "outputs": [
        {
          "output_type": "execute_result",
          "data": {
            "text/html": [
              "<div>\n",
              "<style scoped>\n",
              "    .dataframe tbody tr th:only-of-type {\n",
              "        vertical-align: middle;\n",
              "    }\n",
              "\n",
              "    .dataframe tbody tr th {\n",
              "        vertical-align: top;\n",
              "    }\n",
              "\n",
              "    .dataframe thead th {\n",
              "        text-align: right;\n",
              "    }\n",
              "</style>\n",
              "<table border=\"1\" class=\"dataframe\">\n",
              "  <thead>\n",
              "    <tr style=\"text-align: right;\">\n",
              "      <th></th>\n",
              "      <th>Training Loss</th>\n",
              "      <th>Valid. Loss</th>\n",
              "      <th>Valid. Accur.</th>\n",
              "      <th>Training Time</th>\n",
              "      <th>Validation Time</th>\n",
              "    </tr>\n",
              "    <tr>\n",
              "      <th>epoch</th>\n",
              "      <th></th>\n",
              "      <th></th>\n",
              "      <th></th>\n",
              "      <th></th>\n",
              "      <th></th>\n",
              "    </tr>\n",
              "  </thead>\n",
              "  <tbody>\n",
              "    <tr>\n",
              "      <th>1</th>\n",
              "      <td>0.05</td>\n",
              "      <td>0.04</td>\n",
              "      <td>0.99</td>\n",
              "      <td>0:21:37</td>\n",
              "      <td>0:00:37</td>\n",
              "    </tr>\n",
              "    <tr>\n",
              "      <th>2</th>\n",
              "      <td>0.03</td>\n",
              "      <td>0.04</td>\n",
              "      <td>0.99</td>\n",
              "      <td>0:21:37</td>\n",
              "      <td>0:00:37</td>\n",
              "    </tr>\n",
              "    <tr>\n",
              "      <th>3</th>\n",
              "      <td>0.02</td>\n",
              "      <td>0.04</td>\n",
              "      <td>0.99</td>\n",
              "      <td>0:21:25</td>\n",
              "      <td>0:00:37</td>\n",
              "    </tr>\n",
              "  </tbody>\n",
              "</table>\n",
              "</div>"
            ],
            "text/plain": [
              "       Training Loss  Valid. Loss  Valid. Accur. Training Time Validation Time\n",
              "epoch                                                                         \n",
              "1               0.05         0.04           0.99       0:21:37         0:00:37\n",
              "2               0.03         0.04           0.99       0:21:37         0:00:37\n",
              "3               0.02         0.04           0.99       0:21:25         0:00:37"
            ]
          },
          "metadata": {
            "tags": []
          },
          "execution_count": 43
        }
      ]
    },
    {
      "cell_type": "code",
      "metadata": {
        "colab": {
          "base_uri": "https://localhost:8080/",
          "height": 426
        },
        "id": "Evq6hitiicM8",
        "outputId": "94eea355-4c14-4e9b-cee2-3e483a1aacb9"
      },
      "source": [
        "import matplotlib.pyplot as plt\r\n",
        "% matplotlib inline\r\n",
        "\r\n",
        "import seaborn as sns\r\n",
        "\r\n",
        "# Use plot styling from seaborn.\r\n",
        "sns.set(style='darkgrid')\r\n",
        "\r\n",
        "# Increase the plot size and font size.\r\n",
        "sns.set(font_scale=1.5)\r\n",
        "plt.rcParams[\"figure.figsize\"] = (12,6)\r\n",
        "\r\n",
        "# Plot the learning curve.\r\n",
        "plt.plot(df_stats['Training Loss'], 'b-o', label=\"Training\")\r\n",
        "plt.plot(df_stats['Valid. Loss'], 'g-o', label=\"Validation\")\r\n",
        "\r\n",
        "# Label the plot.\r\n",
        "plt.title(\"Training & Validation Loss\")\r\n",
        "plt.xlabel(\"Epoch\")\r\n",
        "plt.ylabel(\"Loss\")\r\n",
        "plt.legend()\r\n",
        "plt.xticks([1, 2, 3, 4])\r\n",
        "\r\n",
        "plt.show()"
      ],
      "execution_count": null,
      "outputs": [
        {
          "output_type": "display_data",
          "data": {
            "image/png": "[encoded data removed]",
            "text/plain": [
              "<Figure size 864x432 with 1 Axes>"
            ]
          },
          "metadata": {
            "tags": []
          }
        }
      ]
    },
    {
      "cell_type": "code",
      "metadata": {
        "colab": {
          "base_uri": "https://localhost:8080/"
        },
        "id": "FR-qp4bKigUV",
        "outputId": "770355b3-2adc-4212-8406-e87b4774f274"
      },
      "source": [
        "# Preoaring the Test Set\r\n",
        "# Load the test set files.\r\n",
        "test = pd.read_csv('/content/drive/MyDrive/Kaggle/jigsaw-toxic-comment-classification-challenge/test.csv/test.csv')\r\n",
        "test_labels = pd.read_csv('/content/drive/MyDrive/Kaggle/jigsaw-toxic-comment-classification-challenge/test_labels.csv/test_labels.csv')\r\n",
        "\r\n",
        "# The test set contains 153,164 samples, but only includes labels for 63,978 of them\r\n",
        "\r\n",
        "print('There are {:,} total test examples.'.format(len(test)))\r\n",
        "\r\n",
        "# The unlabeled test samples are indicated by all of the label values being\r\n",
        "# \"-1\" for that sample.\r\n",
        "\r\n",
        "# Select only the labeled test samples.\r\n",
        "test = test[test_labels.toxic != - 1]\r\n",
        "test_labels = test_labels.loc[test_labels.toxic != -1]\r\n",
        "\r\n",
        "print('There are {:,} labeled test examples.'.format(len(test)))"
      ],
      "execution_count": null,
      "outputs": [
        {
          "output_type": "stream",
          "text": [
            "There are 153,164 total test examples.\n",
            "There are 63,978 labeled test examples.\n"
          ],
          "name": "stdout"
        }
      ]
    },
    {
      "cell_type": "code",
      "metadata": {
        "colab": {
          "base_uri": "https://localhost:8080/"
        },
        "id": "n1TTgXyLjHVd",
        "outputId": "d07fdcc3-c76f-439b-b6b1-b2ea095ff4ee"
      },
      "source": [
        "# Tokenize and encode the test data\r\n",
        "\r\n",
        "import torch\r\n",
        "\r\n",
        "input_ids = []\r\n",
        "attn_masks = []\r\n",
        "labels = []\r\n",
        "\r\n",
        "# ======== Encoding ========\r\n",
        "\r\n",
        "print('Encoding all {:,} test samples...'.format(len(test)))\r\n",
        "\r\n",
        "# For every test sample...\r\n",
        "for (index, row) in test.iterrows():\r\n",
        "\r\n",
        "    # Report progress.\r\n",
        "    if ((len(input_ids) % 5000) == 0):\r\n",
        "        print('  Tokenized {:,} comments.'.format(len(input_ids)))\r\n",
        "\r\n",
        "    # Convert sentence pairs to input IDs, with attention masks.\r\n",
        "    encoded_dict = tokenizer.encode_plus(row['comment_text'],  # The text to encode.\r\n",
        "                                        max_length=max_len,    # Pad or truncate to this lenght.\r\n",
        "                                        pad_to_max_length=True,\r\n",
        "                                        truncation=True, \r\n",
        "                                        return_tensors='pt')   # Return objects as PyTorch tensors.\r\n",
        "\r\n",
        "    # Add this example to our lists.\r\n",
        "    input_ids.append(encoded_dict['input_ids'])\r\n",
        "    attn_masks.append(encoded_dict['attention_mask'])\r\n",
        "    \r\n",
        "print('\\nDONE. {:,} examples.'.format(len(input_ids)))\r\n",
        "\r\n",
        "# ======== List of Examples --> Tensor ========\r\n",
        "\r\n",
        "# Convert each Python list of Tensors into a 2D Tensor matrix.\r\n",
        "input_ids = torch.cat(input_ids, dim=0)\r\n",
        "attn_masks = torch.cat(attn_masks, dim=0)"
      ],
      "execution_count": null,
      "outputs": [
        {
          "output_type": "stream",
          "text": [
            "Encoding all 63,978 test samples...\n",
            "  Tokenized 0 comments.\n"
          ],
          "name": "stdout"
        },
        {
          "output_type": "stream",
          "text": [
            "/usr/local/lib/python3.6/dist-packages/transformers/tokenization_utils_base.py:2143: FutureWarning: The `pad_to_max_length` argument is deprecated and will be removed in a future version, use `padding=True` or `padding='longest'` to pad to the longest sequence in the batch, or use `padding='max_length'` to pad to a max length. In this case, you can give a specific length with `max_length` (e.g. `max_length=45`) or leave max_length to None to pad to the maximal input size of the model (e.g. 512 for Bert).\n",
            "  FutureWarning,\n"
          ],
          "name": "stderr"
        },
        {
          "output_type": "stream",
          "text": [
            "  Tokenized 5,000 comments.\n",
            "  Tokenized 10,000 comments.\n",
            "  Tokenized 15,000 comments.\n",
            "  Tokenized 20,000 comments.\n",
            "  Tokenized 25,000 comments.\n",
            "  Tokenized 30,000 comments.\n",
            "  Tokenized 35,000 comments.\n",
            "  Tokenized 40,000 comments.\n",
            "  Tokenized 45,000 comments.\n",
            "  Tokenized 50,000 comments.\n",
            "  Tokenized 55,000 comments.\n",
            "  Tokenized 60,000 comments.\n",
            "\n",
            "DONE. 63,978 examples.\n"
          ],
          "name": "stdout"
        }
      ]
    },
    {
      "cell_type": "code",
      "metadata": {
        "colab": {
          "base_uri": "https://localhost:8080/"
        },
        "id": "Vlpnvl7Xj6Yj",
        "outputId": "5fba5622-8628-4ad1-8f48-daee2a6487e1"
      },
      "source": [
        "\r\n",
        "# ======== Prepare Labels ========\r\n",
        "\r\n",
        "# Remove the 'id' column.\r\n",
        "#test_labels = test_labels[['toxic', 'severe_toxic', 'obscene', 'threat', 'insult', 'identity_hate']]\r\n",
        "del test_labels['id']\r\n",
        "\r\n",
        "# The labels are either 0 or 1. Despite this, we need to cast the values to\r\n",
        "# floats--otherwise our loss function will throw an error.\r\n",
        "\r\n",
        "labels = test_labels.to_numpy().astype(float)\r\n",
        "\r\n",
        "# Cast the labels list to a 2D Tensor.\r\n",
        "labels = torch.tensor(labels)\r\n",
        "\r\n",
        "# ======== Summary ========\r\n",
        "\r\n",
        "print('\\nData structure shapes:')\r\n",
        "print('   input_ids:  {:}'.format(str(input_ids.shape)))\r\n",
        "print('  attn_masks:  {:}'.format(str(attn_masks.shape)))\r\n",
        "print('      labels:  {:}'.format(str(labels.shape)))"
      ],
      "execution_count": null,
      "outputs": [
        {
          "output_type": "stream",
          "text": [
            "\n",
            "Data structure shapes:\n",
            "   input_ids:  torch.Size([63978, 128])\n",
            "  attn_masks:  torch.Size([63978, 128])\n",
            "      labels:  torch.Size([63978, 6])\n"
          ],
          "name": "stdout"
        }
      ]
    },
    {
      "cell_type": "code",
      "metadata": {
        "id": "DNMvlodBkSzJ"
      },
      "source": [
        "# Create a DataLoader to batch our test samples for us.\r\n",
        "\r\n",
        "from torch.utils.data import TensorDataset, DataLoader, SequentialSampler\r\n",
        "\r\n",
        "# Combine the training inputs into a TensorDataset.\r\n",
        "test_dataset = TensorDataset(input_ids, attn_masks, labels)\r\n",
        "\r\n",
        "# Specify our batch size.\r\n",
        "batch_size = 16\r\n",
        "\r\n",
        "# Create the DataLoader, which will select batches for us. For testing, the\r\n",
        "# order we evaluate the samples in doesn't matter, so we'll just use the \r\n",
        "# \"SequentialSampler\" to read them in order.\r\n",
        "test_dataloader = DataLoader(\r\n",
        "            test_dataset,  # The training samples.\r\n",
        "            sampler = SequentialSampler(test_dataset), # Select batches randomly\r\n",
        "            batch_size = batch_size # Trains with this batch size.\r\n",
        "        )"
      ],
      "execution_count": null,
      "outputs": []
    },
    {
      "cell_type": "code",
      "metadata": {
        "colab": {
          "base_uri": "https://localhost:8080/"
        },
        "id": "CRfmghbckhQf",
        "outputId": "629725d2-e832-4d09-f4d4-6a92fa7c7771"
      },
      "source": [
        "# Evaluate on Test set\r\n",
        "\r\n",
        "import time\r\n",
        "\r\n",
        "# Prediction on test set\r\n",
        "\r\n",
        "# Put model in evaluation mode\r\n",
        "model.eval()\r\n",
        "\r\n",
        "t0 = time.time()\r\n",
        "\r\n",
        "# Tracking variables \r\n",
        "predictions , true_labels = [], []\r\n",
        "\r\n",
        "print('Evaluating on {:,} test set batches...'.format(len(test_dataloader)))\r\n",
        "\r\n",
        "# Predict \r\n",
        "for batch in test_dataloader:\r\n",
        "    \r\n",
        "    # Report progress.\r\n",
        "    if ((len(predictions) % 500) == 0):\r\n",
        "        print('  Batch {:>5,}  of  {:>5,}.'.format(len(predictions), len(test_dataloader)))\r\n",
        "\r\n",
        "    # Add batch to GPU\r\n",
        "    batch = tuple(t.to(device) for t in batch)\r\n",
        "    \r\n",
        "    # Unpack the inputs from our dataloader\r\n",
        "    b_input_ids, b_input_mask, b_labels = batch\r\n",
        "    \r\n",
        "    # Telling the model not to compute or store the compute graph, saving memory \r\n",
        "    # and speeding up prediction\r\n",
        "    with torch.no_grad():\r\n",
        "        \r\n",
        "        # Forward pass, calculate logit predictions\r\n",
        "        outputs = model(b_input_ids, \r\n",
        "                        token_type_ids=None, \r\n",
        "                        attention_mask=b_input_mask)\r\n",
        "\r\n",
        "    logits = outputs[0]\r\n",
        "\r\n",
        "    # Move logits and labels to CPU\r\n",
        "    logits = logits.detach().cpu().numpy()\r\n",
        "    label_ids = b_labels.to('cpu').numpy()\r\n",
        "    \r\n",
        "    # Store predictions and true labels\r\n",
        "    predictions.append(logits)\r\n",
        "    true_labels.append(label_ids)\r\n",
        "\r\n",
        "print('    DONE.')\r\n",
        "\r\n",
        "print('Evaluation took {:.0f} seconds.'.format(time.time() - t0))"
      ],
      "execution_count": null,
      "outputs": [
        {
          "output_type": "stream",
          "text": [
            "Evaluating on 3,999 test set batches...\n",
            "  Batch     0  of  3,999.\n",
            "  Batch   500  of  3,999.\n",
            "  Batch 1,000  of  3,999.\n",
            "  Batch 1,500  of  3,999.\n",
            "  Batch 2,000  of  3,999.\n",
            "  Batch 2,500  of  3,999.\n",
            "  Batch 3,000  of  3,999.\n",
            "  Batch 3,500  of  3,999.\n",
            "    DONE.\n",
            "Evaluation took 148 seconds.\n"
          ],
          "name": "stdout"
        }
      ]
    },
    {
      "cell_type": "code",
      "metadata": {
        "id": "jZaSoRx9k1g5"
      },
      "source": [
        "# We collected the predictions in batches, so now we just need to recombine them.\r\n",
        "# Combine the results across all batches. \r\n",
        "flat_predictions = np.concatenate(predictions, axis=0)\r\n",
        "flat_true_labels = np.concatenate(true_labels, axis=0)"
      ],
      "execution_count": null,
      "outputs": []
    },
    {
      "cell_type": "code",
      "metadata": {
        "colab": {
          "base_uri": "https://localhost:8080/"
        },
        "id": "5e1QTf3kk_Pj",
        "outputId": "89ce54f2-bace-48f2-892f-aa0cfee7f6c6"
      },
      "source": [
        "# Score Results\r\n",
        "# Most samples don't contain anything toxic, so let's find one that actually does.\r\n",
        "\r\n",
        "for test_i in range(0, len(test)):\r\n",
        "\r\n",
        "    # Break if it has at least one label set.\r\n",
        "    if np.any(flat_true_labels[test_i, :]):\r\n",
        "        break\r\n",
        "\r\n",
        "print('Test sample: {:,}\\n'.format(test_i))"
      ],
      "execution_count": null,
      "outputs": [
        {
          "output_type": "stream",
          "text": [
            "Test sample: 8\n",
            "\n"
          ],
          "name": "stdout"
        }
      ]
    },
    {
      "cell_type": "code",
      "metadata": {
        "colab": {
          "base_uri": "https://localhost:8080/"
        },
        "id": "Luo-VogulOWF",
        "outputId": "68e44458-790a-4afb-bd65-4c18f280cd89"
      },
      "source": [
        "# Now we can look at the model's predictions vs. the correct labels for this test sample.\r\n",
        "# Print out model predictions vs. correct values for this test sample.\r\n",
        "# Since the labels were trained as either 0 or 1, \r\n",
        "# using a threshold of 0.5 seems like a reasonable first choice.\r\n",
        "\r\n",
        "print('           Type   Output   Truth')\r\n",
        "print('           ----   ------   -----')\r\n",
        "\r\n",
        "for label_i in range(0, 6):\r\n",
        "    print('{:>15}   {:>5.2f}      {:}'.format(\r\n",
        "        label_cols[label_i], # Label name\r\n",
        "        flat_predictions[test_i, label_i], # Model's prediction\r\n",
        "        int(flat_true_labels[test_i, label_i]))) # Correct label"
      ],
      "execution_count": null,
      "outputs": [
        {
          "output_type": "stream",
          "text": [
            "           Type   Output   Truth\n",
            "           ----   ------   -----\n",
            "          toxic    4.22      1\n",
            "   severe_toxic   -3.85      0\n",
            "        obscene   -2.97      0\n",
            "         threat   -3.52      0\n",
            "         insult   -1.48      0\n",
            "  identity_hate    1.13      0\n"
          ],
          "name": "stdout"
        }
      ]
    },
    {
      "cell_type": "code",
      "metadata": {
        "colab": {
          "base_uri": "https://localhost:8080/"
        },
        "id": "CyyV92F8lgC4",
        "outputId": "a6ffb3aa-6e2e-441a-b3fc-fc1139ad9415"
      },
      "source": [
        "# ROC AUC  (Receiver Operating Characteristic, Area Under the Curve) \r\n",
        "\r\n",
        "# Calcualte the ROC AUC score for our model's predictions.\r\n",
        "score = roc_auc_score(flat_true_labels, flat_predictions, average='macro')\r\n",
        "\r\n",
        "print('ROC AUC: {:.4f}'.format(score))"
      ],
      "execution_count": null,
      "outputs": [
        {
          "output_type": "stream",
          "text": [
            "ROC AUC: 0.9833\n"
          ],
          "name": "stdout"
        }
      ]
    },
    {
      "cell_type": "code",
      "metadata": {
        "colab": {
          "base_uri": "https://localhost:8080/"
        },
        "id": "ATQjjGVdlVAR",
        "outputId": "a9e1c50d-3f63-4ad8-c76e-e3b8f7f08800"
      },
      "source": [
        "# Saving Our Trained ModelAS\r\n",
        "score"
      ],
      "execution_count": null,
      "outputs": [
        {
          "output_type": "execute_result",
          "data": {
            "text/plain": [
              "0.9832655270021754"
            ]
          },
          "metadata": {
            "tags": []
          },
          "execution_count": 73
        }
      ]
    },
    {
      "cell_type": "code",
      "metadata": {
        "id": "sj5CtW5C8_jq"
      },
      "source": [
        "# Source\r\n",
        "1. https://www.analyticsvidhya.com/blog/2019/09/demystifying-bert-groundbreaking-nlp-framework/"
      ],
      "execution_count": null,
      "outputs": []
    }
  ]
}